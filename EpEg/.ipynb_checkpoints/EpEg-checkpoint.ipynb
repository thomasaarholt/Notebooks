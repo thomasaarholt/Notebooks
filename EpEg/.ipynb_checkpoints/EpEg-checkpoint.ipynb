{
 "cells": [
  {
   "cell_type": "code",
   "execution_count": 1,
   "metadata": {},
   "outputs": [],
   "source": [
    "%matplotlib inline"
   ]
  },
  {
   "cell_type": "code",
   "execution_count": 2,
   "metadata": {},
   "outputs": [],
   "source": [
    "import hyperspy.api as hs\n",
    "import numpy as np\n",
    "import matplotlib.pyplot as plt\n",
    "import os"
   ]
  },
  {
   "cell_type": "code",
   "execution_count": 6,
   "metadata": {},
   "outputs": [],
   "source": [
    "path = r\"C:\\Users\\thomasaar\\Documents\\GitHub\\Notebooks\\EpEg\"\n",
    "path = os.path.join(path, \"\")"
   ]
  },
  {
   "cell_type": "code",
   "execution_count": 7,
   "metadata": {},
   "outputs": [],
   "source": [
    "name = \"plasmon peak mapping-color range18-19 - bin2.dm3\""
   ]
  },
  {
   "cell_type": "code",
   "execution_count": 8,
   "metadata": {},
   "outputs": [],
   "source": [
    "s = hs.load(path + name)"
   ]
  },
  {
   "cell_type": "markdown",
   "metadata": {},
   "source": [
    "### Let's take a look at the data:"
   ]
  },
  {
   "cell_type": "code",
   "execution_count": 9,
   "metadata": {},
   "outputs": [
    {
     "data": {
      "image/png": "[encoded data removed]",
      "text/plain": [
       "<matplotlib.figure.Figure at 0xdaf8780>"
      ]
     },
     "metadata": {},
     "output_type": "display_data"
    }
   ],
   "source": [
    "s.plot(cmap=\"viridis\")"
   ]
  },
  {
   "cell_type": "markdown",
   "metadata": {},
   "source": [
    "Note that there is a hole in the top-right of the image. In order to keep the color limits ok, I'm cropping out the top few pixels of the image:"
   ]
  },
  {
   "cell_type": "code",
   "execution_count": 10,
   "metadata": {},
   "outputs": [],
   "source": [
    "s = s.isig[:,5:]"
   ]
  },
  {
   "cell_type": "markdown",
   "metadata": {},
   "source": [
    "### To see, the Ep values in the top and bottom of the image are:"
   ]
  },
  {
   "cell_type": "code",
   "execution_count": 11,
   "metadata": {},
   "outputs": [
    {
     "data": {
      "text/plain": [
       "array([[ 18.45655441,  18.43328094,  18.41118813, ...,  18.51158905,\n",
       "         18.49610138,  18.38674545],\n",
       "       [ 18.44774437,  18.43819046,  18.445961  , ...,  18.49723434,\n",
       "         18.47943497,  18.4413414 ],\n",
       "       [ 18.42353439,  18.41949081,  18.46960068, ...,  18.48858261,\n",
       "         18.47253418,  18.28552055],\n",
       "       ..., \n",
       "       [ 50.03587723,  53.2297821 ,  47.78347397, ...,  54.66207504,\n",
       "         43.57122421,  44.76358032],\n",
       "       [ 52.40639496,  47.893013  ,  53.13335037, ...,  52.7975769 ,\n",
       "         52.13801193,  52.18047714],\n",
       "       [ 48.26553726,  47.33177185,  52.22529602, ...,  42.41243362,\n",
       "         49.39396667,  51.32452393]], dtype=float32)"
      ]
     },
     "execution_count": 11,
     "metadata": {},
     "output_type": "execute_result"
    }
   ],
   "source": [
    "s.data"
   ]
  },
  {
   "cell_type": "markdown",
   "metadata": {},
   "source": [
    "### Settings constants for the relation Eg -> Ep"
   ]
  },
  {
   "cell_type": "code",
   "execution_count": 12,
   "metadata": {},
   "outputs": [],
   "source": [
    "a = 129.25\n",
    "b = 47.608\n",
    "c = 4.47327\n",
    "e = 3.38799\n",
    "f = -1.40732\n",
    "g = 0.513266\n",
    "\n",
    "constants = a,b,c,e,f,g"
   ]
  },
  {
   "cell_type": "code",
   "execution_count": 13,
   "metadata": {},
   "outputs": [],
   "source": [
    "def Eg_to_Ep(Eg, constants):\n",
    "    import math\n",
    "    \n",
    "    a,b,c,e,f,g = constants\n",
    "    return math.sqrt(Eg**2 + a**2*(2*b*g-c*f+math.sqrt(4*Eg*c**2*g-4*c**2*e*g+c**2*f**2))/(2*(b**2*g+c**2*e-b*c*f-Eg*c**2)))"
   ]
  },
  {
   "cell_type": "markdown",
   "metadata": {},
   "source": [
    "### Duplicate signal, to change one later"
   ]
  },
  {
   "cell_type": "code",
   "execution_count": 14,
   "metadata": {},
   "outputs": [],
   "source": [
    "Ep_signal = s\n",
    "Eg_signal = s.deepcopy()"
   ]
  },
  {
   "cell_type": "code",
   "execution_count": 15,
   "metadata": {},
   "outputs": [],
   "source": [
    "Ep = Eg_signal.data"
   ]
  },
  {
   "cell_type": "markdown",
   "metadata": {},
   "source": [
    "### Find range of Ep values we need to convert to we need for a numerical solution:"
   ]
  },
  {
   "cell_type": "code",
   "execution_count": 16,
   "metadata": {},
   "outputs": [
    {
     "name": "stdout",
     "output_type": "stream",
     "text": [
      "Min 18.2035\n",
      "Max 61.6128\n"
     ]
    }
   ],
   "source": [
    "print(\"Min\", Ep.min())\n",
    "print(\"Max\", Ep.max())"
   ]
  },
  {
   "cell_type": "code",
   "execution_count": 17,
   "metadata": {},
   "outputs": [],
   "source": [
    "Egvalues = np.arange(2.5,76,0.001) # 2.5 is the minimum Eg value, 76 seems to be the max - outside of this range the equation gives NaNs.\n",
    "EgtoEpConversionArray = np.array([Eg_to_Ep(i, constants) for i in Egvalues])"
   ]
  },
  {
   "cell_type": "markdown",
   "metadata": {},
   "source": [
    "### Let's see what our Eg -> Eg equation looks like:"
   ]
  },
  {
   "cell_type": "code",
   "execution_count": 18,
   "metadata": {},
   "outputs": [
    {
     "data": {
      "text/plain": [
       "<matplotlib.text.Text at 0xe08c908>"
      ]
     },
     "execution_count": 18,
     "metadata": {},
     "output_type": "execute_result"
    },
    {
     "data": {
      "image/png": "[encoded data removed]",
      "text/plain": [
       "<matplotlib.figure.Figure at 0xe0786a0>"
      ]
     },
     "metadata": {},
     "output_type": "display_data"
    }
   ],
   "source": [
    "plt.plot(Egvalues,EgtoEpConversionArray,)\n",
    "plt.xlabel(\"Eg\")\n",
    "plt.ylabel(\"Ep\")"
   ]
  },
  {
   "cell_type": "markdown",
   "metadata": {},
   "source": [
    "### Note that we are in the bottom left regime of this plot, and the relation is nearly linear, so it is more like this for us:"
   ]
  },
  {
   "cell_type": "code",
   "execution_count": 21,
   "metadata": {},
   "outputs": [
    {
     "data": {
      "text/plain": [
       "<matplotlib.text.Text at 0xd769cc0>"
      ]
     },
     "execution_count": 21,
     "metadata": {},
     "output_type": "execute_result"
    },
    {
     "data": {
      "image/png": "[encoded data removed]",
      "text/plain": [
       "<matplotlib.figure.Figure at 0xd764748>"
      ]
     },
     "metadata": {},
     "output_type": "display_data"
    }
   ],
   "source": [
    "ourEgvalues = Egvalues[EgtoEpConversionArray < 65]\n",
    "ourEpvalues = EgtoEpConversionArray[EgtoEpConversionArray < 65]\n",
    "plt.plot(ourEgvalues,ourEpvalues,)\n",
    "plt.xlabel(\"Eg\")\n",
    "plt.ylabel(\"Ep\")\n",
    "# I've just zoomed into the bottom left of the plot"
   ]
  },
  {
   "cell_type": "code",
   "execution_count": 22,
   "metadata": {},
   "outputs": [
    {
     "data": {
      "text/plain": [
       "0.00066359479534483512"
      ]
     },
     "execution_count": 22,
     "metadata": {},
     "output_type": "execute_result"
    }
   ],
   "source": [
    "np.diff(EgtoEpConversionArray).min() # Derivative is never negative, good - means that there can't be multiple values of Eg for a given Ep"
   ]
  },
  {
   "cell_type": "markdown",
   "metadata": {},
   "source": [
    "### Let's find the first value in the Ep table equal to our pixel value, and use that index in the Eg table:"
   ]
  },
  {
   "cell_type": "code",
   "execution_count": 23,
   "metadata": {},
   "outputs": [],
   "source": [
    "def func(Epvalue, Epvalues, EpEgConversionArray):\n",
    "    import numpy as np\n",
    "    Egvalue = Egvalues[np.where(EgtoEpConversionArray >= Epvalue)[0][0]]\n",
    "    return Egvalue"
   ]
  },
  {
   "cell_type": "code",
   "execution_count": 25,
   "metadata": {},
   "outputs": [
    {
     "name": "stdout",
     "output_type": "stream",
     "text": [
      "These are the minimum and max Eg values found:\n",
      "Min 2.561\n",
      "Max 48.327\n"
     ]
    }
   ],
   "source": [
    "print(\"These are the minimum and max Eg values found:\")\n",
    "print(\"Min\", func(Ep_signal.data.min(), Egvalues, EgtoEpConversionArray))\n",
    "print(\"Max\", func(Ep_signal.data.max(), Egvalues, EgtoEpConversionArray))"
   ]
  },
  {
   "cell_type": "code",
   "execution_count": 26,
   "metadata": {},
   "outputs": [],
   "source": [
    "for x in np.nditer(Ep, op_flags=['readwrite']):\n",
    "    x[...] = func(x, Egvalues, EgtoEpConversionArray)"
   ]
  },
  {
   "cell_type": "code",
   "execution_count": 27,
   "metadata": {},
   "outputs": [],
   "source": [
    "Eg_signal.save(path + \"Eg_values.tif\")"
   ]
  },
  {
   "cell_type": "code",
   "execution_count": 28,
   "metadata": {},
   "outputs": [],
   "source": [
    "import scipy.io\n",
    "scipy.io.savemat(path+\"Eg.mat\", mdict={'arr': Eg_signal.data})\n"
   ]
  },
  {
   "cell_type": "code",
   "execution_count": 29,
   "metadata": {},
   "outputs": [
    {
     "data": {
      "image/png": "[encoded data removed]",
      "text/plain": [
       "<matplotlib.figure.Figure at 0xd8627f0>"
      ]
     },
     "metadata": {},
     "output_type": "display_data"
    }
   ],
   "source": [
    "Eg_signal.plot(cmap=\"viridis\")"
   ]
  },
  {
   "cell_type": "markdown",
   "metadata": {},
   "source": [
    "### As we see below, the Eg values range from 2.7 in the top of the image, to varying around 38 in the bottom part of the image"
   ]
  },
  {
   "cell_type": "code",
   "execution_count": 30,
   "metadata": {},
   "outputs": [
    {
     "data": {
      "text/plain": [
       "array([[  2.75300002,   2.73300004,   2.71399999, ...,   2.80299997,\n",
       "          2.78900003,   2.69400001],\n",
       "       [  2.74499989,   2.73699999,   2.74399996, ...,   2.78999996,\n",
       "          2.77399993,   2.74000001],\n",
       "       [  2.72399998,   2.72099996,   2.7650001 , ...,   2.78200006,\n",
       "          2.76799989,   2.61599994],\n",
       "       ..., \n",
       "       [ 38.43199921,  41.29800034,  36.35400009, ...,  42.55099869,\n",
       "         32.33800125,  33.49200058],\n",
       "       [ 40.56800079,  36.45600128,  41.21300125, ...,  40.91600037,\n",
       "         40.32899857,  40.36700058],\n",
       "       [ 36.80199814,  35.93099976,  40.4070015 , ...,  31.20299911,\n",
       "         37.84500122,  39.59999847]], dtype=float32)"
      ]
     },
     "execution_count": 30,
     "metadata": {},
     "output_type": "execute_result"
    }
   ],
   "source": [
    "Eg_signal.data"
   ]
  }
 ],
 "metadata": {
  "kernelspec": {
   "display_name": "Python 3",
   "language": "python",
   "name": "python3"
  },
  "language_info": {
   "codemirror_mode": {
    "name": "ipython",
    "version": 3
   },
   "file_extension": ".py",
   "mimetype": "text/x-python",
   "name": "python",
   "nbconvert_exporter": "python",
   "pygments_lexer": "ipython3",
   "version": "3.6.0"
  }
 },
 "nbformat": 4,
 "nbformat_minor": 2
}

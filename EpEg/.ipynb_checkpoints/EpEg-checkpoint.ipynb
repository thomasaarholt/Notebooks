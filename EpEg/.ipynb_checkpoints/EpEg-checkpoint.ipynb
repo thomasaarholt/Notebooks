{
 "cells": [
  {
   "cell_type": "code",
   "execution_count": 1,
   "metadata": {},
   "outputs": [],
   "source": [
    "%matplotlib inline"
   ]
  },
  {
   "cell_type": "code",
   "execution_count": 2,
   "metadata": {},
   "outputs": [],
   "source": [
    "import hyperspy.api as hs\n",
    "import numpy as np\n",
    "import matplotlib.pyplot as plt\n",
    "import os"
   ]
  },
  {
   "cell_type": "code",
   "execution_count": 3,
   "metadata": {},
   "outputs": [],
   "source": [
    "path = r\"M:\\pc\\Dokumenter\\Notebooks\\EpEg\"\n",
    "path = os.path.join(path, \"\")"
   ]
  },
  {
   "cell_type": "code",
   "execution_count": 4,
   "metadata": {},
   "outputs": [],
   "source": [
    "name = \"plasmon peak mapping-color range18-19 - bin2.dm3\""
   ]
  },
  {
   "cell_type": "code",
   "execution_count": 5,
   "metadata": {},
   "outputs": [],
   "source": [
    "s = hs.load(path + name)"
   ]
  },
  {
   "cell_type": "markdown",
   "metadata": {},
   "source": [
    "### Let's take a look at the data:"
   ]
  },
  {
   "cell_type": "code",
   "execution_count": 6,
   "metadata": {},
   "outputs": [
    {
     "data": {
      "image/png": "[encoded data removed]",
      "text/plain": [
       "<matplotlib.figure.Figure at 0x9526b70>"
      ]
     },
     "metadata": {},
     "output_type": "display_data"
    }
   ],
   "source": [
    "s.plot(cmap=\"viridis\")"
   ]
  },
  {
   "cell_type": "markdown",
   "metadata": {},
   "source": [
    "Note that there is a hole in the top-right of the image. In order to keep the color limits ok, I'm cropping out the top few pixels of the image.\n",
    "Since the bottom apparently is substrate, I crop out that as well:"
   ]
  },
  {
   "cell_type": "code",
   "execution_count": 10,
   "metadata": {},
   "outputs": [],
   "source": [
    "#s = s.isig[:,5:-5]"
   ]
  },
  {
   "cell_type": "code",
   "execution_count": 7,
   "metadata": {},
   "outputs": [
    {
     "data": {
      "image/png": "[encoded data removed]",
      "text/plain": [
       "<matplotlib.figure.Figure at 0xfac8048>"
      ]
     },
     "metadata": {},
     "output_type": "display_data"
    }
   ],
   "source": [
    "s.plot(cmap=\"viridis\")"
   ]
  },
  {
   "cell_type": "markdown",
   "metadata": {},
   "source": [
    "### To see, the Ep values in the top and bottom of the image are:"
   ]
  },
  {
   "cell_type": "code",
   "execution_count": 8,
   "metadata": {},
   "outputs": [
    {
     "data": {
      "text/plain": [
       "array([[ 18.40647697,  18.40217018,  18.32034302, ...,  18.41176224,\n",
       "         18.4259491 ,  18.46411514],\n",
       "       [ 18.41669083,  18.39990807,  18.33735657, ...,  18.40891075,\n",
       "         18.44997787,  18.38216972],\n",
       "       [ 18.42376518,  18.39284897,  18.3355217 , ...,  18.42285538,\n",
       "         18.41974449,  18.44116211],\n",
       "       ..., \n",
       "       [ 50.03587723,  53.2297821 ,  47.78347397, ...,  54.66207504,\n",
       "         43.57122421,  44.76358032],\n",
       "       [ 52.40639496,  47.893013  ,  53.13335037, ...,  52.7975769 ,\n",
       "         52.13801193,  52.18047714],\n",
       "       [ 48.26553726,  47.33177185,  52.22529602, ...,  42.41243362,\n",
       "         49.39396667,  51.32452393]], dtype=float32)"
      ]
     },
     "execution_count": 8,
     "metadata": {},
     "output_type": "execute_result"
    }
   ],
   "source": [
    "s.data"
   ]
  },
  {
   "cell_type": "markdown",
   "metadata": {},
   "source": [
    "### Settings constants for the relation Eg -> Ep"
   ]
  },
  {
   "cell_type": "code",
   "execution_count": 9,
   "metadata": {},
   "outputs": [],
   "source": [
    "a = 129.25\n",
    "b = 47.608\n",
    "c = 4.47327\n",
    "e = 3.38799\n",
    "f = -1.40732\n",
    "g = 0.513266\n",
    "\n",
    "constants = a,b,c,e,f,g"
   ]
  },
  {
   "cell_type": "code",
   "execution_count": 10,
   "metadata": {},
   "outputs": [],
   "source": [
    "def Eg_to_Ep(Eg, constants):\n",
    "    import math\n",
    "    \n",
    "    a,b,c,e,f,g = constants\n",
    "    return math.sqrt(Eg**2 + a**2*(2*b*g-c*f+math.sqrt(4*Eg*c**2*g-4*c**2*e*g+c**2*f**2))/(2*(b**2*g+c**2*e-b*c*f-Eg*c**2)))"
   ]
  },
  {
   "cell_type": "markdown",
   "metadata": {},
   "source": [
    "### Duplicate signal, to change one later"
   ]
  },
  {
   "cell_type": "code",
   "execution_count": 11,
   "metadata": {},
   "outputs": [],
   "source": [
    "Ep_signal = s\n",
    "Eg_signal = s.deepcopy()"
   ]
  },
  {
   "cell_type": "code",
   "execution_count": 12,
   "metadata": {},
   "outputs": [],
   "source": [
    "Ep = Eg_signal.data"
   ]
  },
  {
   "cell_type": "markdown",
   "metadata": {},
   "source": [
    "### Find range of Ep values we need to convert to we need for a numerical solution:"
   ]
  },
  {
   "cell_type": "code",
   "execution_count": 13,
   "metadata": {},
   "outputs": [
    {
     "name": "stdout",
     "output_type": "stream",
     "text": [
      "Min 3.0504\n",
      "Max 61.6128\n"
     ]
    }
   ],
   "source": [
    "print(\"Min\", Ep.min())\n",
    "print(\"Max\", Ep.max())"
   ]
  },
  {
   "cell_type": "code",
   "execution_count": 14,
   "metadata": {},
   "outputs": [],
   "source": [
    "Egvalues = np.arange(2.5,76,0.001) # 2.5 is the minimum Eg value, 76 seems to be the max - outside of this range the equation gives NaNs.\n",
    "EgtoEpConversionArray = np.array([Eg_to_Ep(i, constants) for i in Egvalues])"
   ]
  },
  {
   "cell_type": "markdown",
   "metadata": {},
   "source": [
    "### Let's see what our Eg -> Eg equation looks like:"
   ]
  },
  {
   "cell_type": "code",
   "execution_count": 15,
   "metadata": {},
   "outputs": [
    {
     "data": {
      "text/plain": [
       "<matplotlib.text.Text at 0xfc0bc50>"
      ]
     },
     "execution_count": 15,
     "metadata": {},
     "output_type": "execute_result"
    },
    {
     "data": {
      "image/png": "[encoded data removed]",
      "text/plain": [
       "<matplotlib.figure.Figure at 0xfbf22e8>"
      ]
     },
     "metadata": {},
     "output_type": "display_data"
    }
   ],
   "source": [
    "plt.plot(Egvalues,EgtoEpConversionArray,)\n",
    "plt.xlabel(\"Eg\")\n",
    "plt.ylabel(\"Ep\")"
   ]
  },
  {
   "cell_type": "markdown",
   "metadata": {},
   "source": [
    "### Note that we are in the extreme bottom left regime of this plot, and the relation is nearly linear, so it is more like this for us:"
   ]
  },
  {
   "cell_type": "code",
   "execution_count": 16,
   "metadata": {},
   "outputs": [
    {
     "data": {
      "text/plain": [
       "<matplotlib.text.Text at 0xfc053c8>"
      ]
     },
     "execution_count": 16,
     "metadata": {},
     "output_type": "execute_result"
    },
    {
     "data": {
      "image/png": "[encoded data removed]",
      "text/plain": [
       "<matplotlib.figure.Figure at 0xfbe1ef0>"
      ]
     },
     "metadata": {},
     "output_type": "display_data"
    }
   ],
   "source": [
    "ourEgvalues = Egvalues[EgtoEpConversionArray < 19.5]\n",
    "ourEpvalues = EgtoEpConversionArray[EgtoEpConversionArray < 19.5]\n",
    "plt.plot(ourEgvalues,ourEpvalues,)\n",
    "plt.xlabel(\"Eg\")\n",
    "plt.ylabel(\"Ep\")\n",
    "# I've just zoomed into the bottom left of the plot"
   ]
  },
  {
   "cell_type": "code",
   "execution_count": 17,
   "metadata": {},
   "outputs": [
    {
     "data": {
      "text/plain": [
       "0.00066359479534483512"
      ]
     },
     "execution_count": 17,
     "metadata": {},
     "output_type": "execute_result"
    }
   ],
   "source": [
    "np.diff(EgtoEpConversionArray).min() # Derivative is never negative, good - means that there can't be multiple values of Eg for a given Ep"
   ]
  },
  {
   "cell_type": "markdown",
   "metadata": {},
   "source": [
    "### Let's find the first value in the Ep table equal to our pixel value, and use that index in the Eg table:"
   ]
  },
  {
   "cell_type": "code",
   "execution_count": 18,
   "metadata": {},
   "outputs": [],
   "source": [
    "def func(Epvalue, Epvalues, EpEgConversionArray):\n",
    "    import numpy as np\n",
    "    Egvalue = Egvalues[np.where(EgtoEpConversionArray >= Epvalue)[0][0]]\n",
    "    return Egvalue"
   ]
  },
  {
   "cell_type": "code",
   "execution_count": 19,
   "metadata": {},
   "outputs": [
    {
     "name": "stdout",
     "output_type": "stream",
     "text": [
      "These are the minimum and max Eg values found:\n",
      "Min 2.5\n",
      "Max 48.327\n"
     ]
    }
   ],
   "source": [
    "print(\"These are the minimum and max Eg values found:\")\n",
    "print(\"Min\", func(Ep_signal.data.min(), Egvalues, EgtoEpConversionArray))\n",
    "print(\"Max\", func(Ep_signal.data.max(), Egvalues, EgtoEpConversionArray))"
   ]
  },
  {
   "cell_type": "code",
   "execution_count": 20,
   "metadata": {},
   "outputs": [],
   "source": [
    "for x in np.nditer(Ep, op_flags=['readwrite']):\n",
    "    x[...] = func(x, Egvalues, EgtoEpConversionArray)"
   ]
  },
  {
   "cell_type": "code",
   "execution_count": 21,
   "metadata": {},
   "outputs": [],
   "source": [
    "Eg_signal.save(path + \"Eg_values.tif\")"
   ]
  },
  {
   "cell_type": "code",
   "execution_count": 22,
   "metadata": {},
   "outputs": [],
   "source": [
    "import scipy.io\n",
    "scipy.io.savemat(path+\"Eg.mat\", mdict={'arr': Eg_signal.data})\n"
   ]
  },
  {
   "cell_type": "code",
   "execution_count": 23,
   "metadata": {},
   "outputs": [
    {
     "data": {
      "image/png": "[encoded data removed]",
      "text/plain": [
       "<matplotlib.figure.Figure at 0xfa4a710>"
      ]
     },
     "metadata": {},
     "output_type": "display_data"
    }
   ],
   "source": [
    "Eg_signal.plot(cmap=\"viridis\")"
   ]
  },
  {
   "cell_type": "markdown",
   "metadata": {},
   "source": [
    "### As we see below, the Eg values range from 2.7 in the top of the image, to varying around 38 in the bottom part of the image"
   ]
  },
  {
   "cell_type": "code",
   "execution_count": 24,
   "metadata": {},
   "outputs": [
    {
     "data": {
      "text/plain": [
       "array([[  2.71000004,   2.70600009,   2.64100003, ...,   2.71399999,\n",
       "          2.727     ,   2.75999999],\n",
       "       [  2.7190001 ,   2.704     ,   2.65400004, ...,   2.71199989,\n",
       "          2.74699998,   2.69000006],\n",
       "       [  2.7249999 ,   2.69899988,   2.65300012, ...,   2.72399998,\n",
       "          2.72099996,   2.74000001],\n",
       "       ..., \n",
       "       [ 38.43199921,  41.29800034,  36.35400009, ...,  42.55099869,\n",
       "         32.33800125,  33.49200058],\n",
       "       [ 40.56800079,  36.45600128,  41.21300125, ...,  40.91600037,\n",
       "         40.32899857,  40.36700058],\n",
       "       [ 36.80199814,  35.93099976,  40.4070015 , ...,  31.20299911,\n",
       "         37.84500122,  39.59999847]], dtype=float32)"
      ]
     },
     "execution_count": 24,
     "metadata": {},
     "output_type": "execute_result"
    }
   ],
   "source": [
    "Eg_signal.data"
   ]
  },
  {
   "cell_type": "code",
   "execution_count": null,
   "metadata": {},
   "outputs": [],
   "source": []
  }
 ],
 "metadata": {
  "kernelspec": {
   "display_name": "Python 3",
   "language": "python",
   "name": "python3"
  },
  "language_info": {
   "codemirror_mode": {
    "name": "ipython",
    "version": 3
   },
   "file_extension": ".py",
   "mimetype": "text/x-python",
   "name": "python",
   "nbconvert_exporter": "python",
   "pygments_lexer": "ipython3",
   "version": "3.5.3"
  }
 },
 "nbformat": 4,
 "nbformat_minor": 2
}
